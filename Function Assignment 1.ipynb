{
 "cells": [
  {
   "cell_type": "markdown",
   "id": "b4991168-0bd5-4848-9125-509ed20df035",
   "metadata": {},
   "source": [
    "Q1. Q1. Create a python program to sort the given list of tuples based on integer value using a\n",
    "lambda function.\n",
    "[('Sachin Tendulkar', 34357), ('Ricky Ponting', 27483), ('Jack Kallis', 25534), ('Virat Kohli', 24936)]"
   ]
  },
  {
   "cell_type": "markdown",
   "id": "b084d602-fc11-4688-a364-cae2ace2210c",
   "metadata": {},
   "source": [
    "##### Sol. The Python program that shots the given list of tuples based on the integer values using a lambda function is given below:"
   ]
  },
  {
   "cell_type": "code",
   "execution_count": 6,
   "id": "a08a2371-59dd-421c-ae5e-7d8005acdc6f",
   "metadata": {},
   "outputs": [
    {
     "name": "stdout",
     "output_type": "stream",
     "text": [
      "('Sachin Tendulkar', 34357)\n",
      "('Ricky Ponting', 27483)\n",
      "('Jack Kallis', 25534)\n",
      "('Virat Kohli', 24936)\n"
     ]
    }
   ],
   "source": [
    "data=[('Sachin Tendulkar', 34357), ('Ricky Ponting', 27483), ('Jack Kallis', 25534), ('Virat Kohli', 24936)]\n",
    "\n",
    "# Sorting the list based on the integer value\n",
    "sorted_data=sorted(data,key=lambda x:x[1],reverse=True)\n",
    "for item in sorted_data:\n",
    "        print(item)\n"
   ]
  },
  {
   "cell_type": "markdown",
   "id": "e7a8e2a1-499c-4f2d-b5f1-48d18576a22d",
   "metadata": {},
   "source": [
    "##### Q2. Write a Python Program to find the squares of all the numbers in the given list of integers using\n",
    "lambda and map functions.\n",
    "[1, 2, 3, 4, 5, 6, 7, 8, 9, 10]"
   ]
  },
  {
   "cell_type": "markdown",
   "id": "a058801f-9731-4ba8-a9cc-ccd156cdd501",
   "metadata": {},
   "source": [
    "##### Sol. Python program that uses lambda and map function to find the squares of the the numbers in the given list of integers are given below:"
   ]
  },
  {
   "cell_type": "code",
   "execution_count": 7,
   "id": "c36a7f3b-fe35-46df-a4a0-1a276caf36da",
   "metadata": {},
   "outputs": [
    {
     "name": "stdout",
     "output_type": "stream",
     "text": [
      "[1, 4, 9, 16, 25, 36, 49, 64, 81, 100]\n"
     ]
    }
   ],
   "source": [
    "numbers=[1,2,3,4,5,6,7,8,9,10]\n",
    "\n",
    "#Finding squares using lambda and map function\n",
    "squared_numbers=map(lambda x:x**2,numbers)\n",
    "print(list(squared_numbers))"
   ]
  },
  {
   "cell_type": "markdown",
   "id": "5f929271-6e16-4b5c-ac15-42006f8b236e",
   "metadata": {},
   "source": [
    "##### Q3. Write a python program to convert the given list of integers into a tuple of strings. Use map and\n",
    "lambda functions\n",
    "Given String: [1, 2, 3, 4, 5, 6, 7, 8, 9, 10]\n",
    "Expected output: ('1', '2', '3', '4', '5', '6', '7', '8', '9', '10')"
   ]
  },
  {
   "cell_type": "markdown",
   "id": "91ac13b9-2701-4c23-8165-f91b5e6f6177",
   "metadata": {},
   "source": [
    "##### Sol. A python program to convert the list of integers into a tuple of string using map and lambda function is given below:"
   ]
  },
  {
   "cell_type": "code",
   "execution_count": 8,
   "id": "d57ad9fd-9563-4831-bde7-b3d6bb197fda",
   "metadata": {},
   "outputs": [
    {
     "name": "stdout",
     "output_type": "stream",
     "text": [
      "('1', '2', '3', '4', '5', '6', '7', '8', '9', '10')\n"
     ]
    }
   ],
   "source": [
    "number=[1,2,3,4,5,6,7,8,9,10]\n",
    "\n",
    "# Converting interger into string using map and lambda fuction\n",
    "string_tuple=tuple(map(lambda x:str(x),number))\n",
    "print(string_tuple)"
   ]
  },
  {
   "cell_type": "markdown",
   "id": "8840197d-f2df-4f31-a305-0fc70dfb8290",
   "metadata": {},
   "source": [
    "##### Q4. Write a python program using reduce function to compute the product of a list containing numbers\n",
    "from 1 to 25."
   ]
  },
  {
   "cell_type": "markdown",
   "id": "c8ad895d-51ba-4f4b-8e6a-8be5c831b64b",
   "metadata": {},
   "source": [
    "##### Sol. A Python program to compute the product of a list containing numbers from 1 to 25 using reduce function. We need to import the reduce function from the 'functools'. Given below is the Python program that does that:"
   ]
  },
  {
   "cell_type": "code",
   "execution_count": 9,
   "id": "a9ffaa11-d3fb-4b1b-85a9-47801af91265",
   "metadata": {},
   "outputs": [
    {
     "name": "stdout",
     "output_type": "stream",
     "text": [
      "15511210043330985984000000\n"
     ]
    }
   ],
   "source": [
    "from functools import reduce\n",
    "\n",
    "# List of numbers from 1 to 25\n",
    "numbers=list(range(1,26))\n",
    "\n",
    "product=reduce(lambda x,y:x*y,numbers)\n",
    "print(product)"
   ]
  },
  {
   "cell_type": "markdown",
   "id": "5cab0cb3-df0f-4b57-8559-af04930c3e4c",
   "metadata": {},
   "source": [
    "##### Q5. Write a python program to filter the numbers in a given list that are divisible by 2 and 3 using the\n",
    "filter function.\n",
    "[2, 3, 6, 9, 27, 60, 90, 120, 55, 46]"
   ]
  },
  {
   "cell_type": "markdown",
   "id": "f564352d-9aa2-4e03-b0ea-4c862e2147c0",
   "metadata": {},
   "source": [
    "##### Sol. A Python program to filter the number in a list that are divisible by 2 and 3 using the filter function is given below:"
   ]
  },
  {
   "cell_type": "code",
   "execution_count": 14,
   "id": "1d1f7ff4-882c-4ff1-add9-fa46a6251aec",
   "metadata": {},
   "outputs": [
    {
     "name": "stdout",
     "output_type": "stream",
     "text": [
      "6\n",
      "60\n",
      "90\n",
      "120\n"
     ]
    }
   ],
   "source": [
    "numbers=[2, 3, 6, 9, 27, 60, 90, 120, 55, 46]\n",
    "\n",
    "# Filtering the numbers using filter function\n",
    "filtered_numbers=list(filter(lambda x:x%2==0 and x%3==0,numbers))\n",
    "\n",
    "for numbers in filtered_numbers:\n",
    "    print(numbers)"
   ]
  },
  {
   "cell_type": "markdown",
   "id": "2f3945d4-4073-443d-93c9-600656806aa7",
   "metadata": {},
   "source": [
    "##### Q6. Write a python program to find palindromes in the given list of strings using lambda and filter\n",
    "function.\n",
    "['python', 'php', 'aba', 'radar', 'level']"
   ]
  },
  {
   "cell_type": "markdown",
   "id": "f52f8f69-fcac-4483-895c-84ada8058d70",
   "metadata": {},
   "source": [
    "##### Sol. A Python program to find palindromes in the given list of strings using lambda and filter function is given below:"
   ]
  },
  {
   "cell_type": "code",
   "execution_count": 19,
   "id": "269a0f76-6d8c-40d7-84ee-52ee4b033794",
   "metadata": {},
   "outputs": [
    {
     "name": "stdout",
     "output_type": "stream",
     "text": [
      "php\n",
      "aba\n",
      "radar\n",
      "level\n"
     ]
    }
   ],
   "source": [
    "l_strings=['python','php','aba','radar','level']\n",
    "\n",
    "# Filtering palindromes using lambda and filter function\n",
    "palindromes=list(filter(lambda x:x==x[::-1],l_strings))\n",
    "\n",
    "for palindrome in palindromes:\n",
    "    print(palindrome)"
   ]
  }
 ],
 "metadata": {
  "kernelspec": {
   "display_name": "Python 3 (ipykernel)",
   "language": "python",
   "name": "python3"
  },
  "language_info": {
   "codemirror_mode": {
    "name": "ipython",
    "version": 3
   },
   "file_extension": ".py",
   "mimetype": "text/x-python",
   "name": "python",
   "nbconvert_exporter": "python",
   "pygments_lexer": "ipython3",
   "version": "3.10.8"
  }
 },
 "nbformat": 4,
 "nbformat_minor": 5
}
